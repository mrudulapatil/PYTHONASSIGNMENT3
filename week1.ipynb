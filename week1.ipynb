{
  "nbformat": 4,
  "nbformat_minor": 0,
  "metadata": {
    "colab": {
      "provenance": [],
      "collapsed_sections": [],
      "authorship_tag": "ABX9TyM7RcbJJ/mn/0maQmUJoqxZ",
      "include_colab_link": true
    },
    "kernelspec": {
      "name": "python3",
      "display_name": "Python 3"
    },
    "language_info": {
      "name": "python"
    }
  },
  "cells": [
    {
      "cell_type": "markdown",
      "metadata": {
        "id": "view-in-github",
        "colab_type": "text"
      },
      "source": [
        "<a href=\"https://colab.research.google.com/github/mrudulapatil/pythonnPROGRAMMING2/blob/main/week1.ipynb\" target=\"_parent\"><img src=\"https://colab.research.google.com/assets/colab-badge.svg\" alt=\"Open In Colab\"/></a>"
      ]
    },
    {
      "cell_type": "code",
      "execution_count": null,
      "metadata": {
        "colab": {
          "base_uri": "https://localhost:8080/"
        },
        "id": "NePsDqjEDES9",
        "outputId": "98d4a135-00b6-4a64-fef5-a1e1026908d1"
      },
      "outputs": [
        {
          "output_type": "stream",
          "name": "stdout",
          "text": [
            "hello python\n",
            "hello python\n"
          ]
        }
      ],
      "source": [
        "#1)write a python program to print \"hello python\"\n",
        "print(\"hello python\")\n",
        "z='hello python'\n",
        "print(z)"
      ]
    },
    {
      "cell_type": "code",
      "source": [
        "#2)write a python program to do arithmetical operations addition and division\n",
        "q=23\n",
        "p=44\n",
        "sum=p+q\n",
        "print(sum)\n",
        "div=q/p\n",
        "print(div)"
      ],
      "metadata": {
        "colab": {
          "base_uri": "https://localhost:8080/"
        },
        "id": "VnkWpO35FKnZ",
        "outputId": "ad3c8acf-03a6-441c-ec67-f38d0ac89405"
      },
      "execution_count": null,
      "outputs": [
        {
          "output_type": "stream",
          "name": "stdout",
          "text": [
            "67\n",
            "0.5227272727272727\n"
          ]
        }
      ]
    },
    {
      "cell_type": "code",
      "source": [
        "#3)write a pyhon program to find the area of a triangle\n",
        "height = float(input(\"enter the height of the traingle: \"))\n",
        "base = float(input(\"enter the base of the traingle: \"))\n",
        "area = 0.5 *(base*height)\n",
        "print('Area of triangle is :', area)\n"
      ],
      "metadata": {
        "colab": {
          "base_uri": "https://localhost:8080/"
        },
        "id": "xYUSi6QKFU35",
        "outputId": "74576ec6-2098-4621-d00a-ed8fb455e10d"
      },
      "execution_count": null,
      "outputs": [
        {
          "output_type": "stream",
          "name": "stdout",
          "text": [
            "enter the height of the traingle: 12\n",
            "enter the base of the traingle: 23\n",
            "Area of triangle is : 138.0\n"
          ]
        }
      ]
    },
    {
      "cell_type": "code",
      "source": [
        "#4)Write a Python program to swap two variables?\n",
        "a = 34\n",
        "d = 45\n",
        "\n",
        "a, d = d, a\n",
        "print(\"a =\", a)\n",
        "print(\"d =\", d)"
      ],
      "metadata": {
        "colab": {
          "base_uri": "https://localhost:8080/"
        },
        "id": "rcwYfvkXFskf",
        "outputId": "22d69b81-996c-4329-d184-e4f7c7e5eaba"
      },
      "execution_count": null,
      "outputs": [
        {
          "output_type": "stream",
          "name": "stdout",
          "text": [
            "a = 45\n",
            "d = 34\n"
          ]
        }
      ]
    },
    {
      "cell_type": "code",
      "source": [
        "#5)Write a Python program to generate random number?\n",
        "import random \n",
        "rand_number = random.randint(0,100)\n",
        "print(rand_number)"
      ],
      "metadata": {
        "colab": {
          "base_uri": "https://localhost:8080/"
        },
        "id": "-J7gLFnvF40H",
        "outputId": "17bf3966-0cc5-4232-aa56-611a180a11c2"
      },
      "execution_count": null,
      "outputs": [
        {
          "output_type": "stream",
          "name": "stdout",
          "text": [
            "4\n"
          ]
        }
      ]
    },
    {
      "cell_type": "code",
      "source": [
        "#Write a Python program to convert kilometers to miles?\n",
        "kilometers = float(input(\"Enter no of kilometers: \"))\n",
        "miles = kilometers*0.621371\n",
        "print(kilometers, 'km = ', miles,' miles')\n"
      ],
      "metadata": {
        "colab": {
          "base_uri": "https://localhost:8080/"
        },
        "id": "eWDl_vt6GTXn",
        "outputId": "e69c2b7f-3d31-4e85-8c03-ec760557a075"
      },
      "execution_count": null,
      "outputs": [
        {
          "output_type": "stream",
          "name": "stdout",
          "text": [
            "Enter no of kilometers: 8\n",
            "8.0 km =  4.970968  miles\n"
          ]
        }
      ]
    },
    {
      "cell_type": "code",
      "source": [
        "#Write a Python program to convert Celsius to Fahrenheit?\n",
        "Celsius = float(input('Enter the temperature in Celsius: '))\n",
        "Fahrenheit = (Celsius * 1.8) + 32\n",
        "print(Celsius, ' C = ', Fahrenheit , 'F')"
      ],
      "metadata": {
        "colab": {
          "base_uri": "https://localhost:8080/"
        },
        "id": "2ofY_bWgGc3G",
        "outputId": "599effc3-b334-4615-eeed-4c62de5703c0"
      },
      "execution_count": null,
      "outputs": [
        {
          "output_type": "stream",
          "name": "stdout",
          "text": [
            "Enter the temperature in Celsius: 44\n",
            "44.0  C =  111.2 F\n"
          ]
        }
      ]
    },
    {
      "cell_type": "code",
      "source": [
        "#Write a Python program to display calendar?\n",
        "import calendar\n",
        " \n",
        "yy = 2022\n",
        "mm = 10\n",
        " \n",
        "print(calendar.month(yy, mm))"
      ],
      "metadata": {
        "colab": {
          "base_uri": "https://localhost:8080/"
        },
        "id": "CfoyU10iGno6",
        "outputId": "2c81cd1f-cbf9-4017-fafc-fcad8273e80e"
      },
      "execution_count": null,
      "outputs": [
        {
          "output_type": "stream",
          "name": "stdout",
          "text": [
            "    October 2022\n",
            "Mo Tu We Th Fr Sa Su\n",
            "                1  2\n",
            " 3  4  5  6  7  8  9\n",
            "10 11 12 13 14 15 16\n",
            "17 18 19 20 21 22 23\n",
            "24 25 26 27 28 29 30\n",
            "31\n",
            "\n"
          ]
        }
      ]
    },
    {
      "cell_type": "code",
      "source": [
        "#Write a Python program to solve quadratic equation?\n",
        "import math\n",
        "a = int(input('Enter value of a: '))\n",
        "b = int(input('Enter value of b: '))\n",
        "c = int(input('Enter value of c: '))\n",
        "\n",
        "D = ((b**2)- (4*a*c))\n",
        "solution1 = (-b+math.sqrt(D))/(2*a)\n",
        "solution2 = (-b-math.sqrt(D))/(2*a)\n",
        "\n",
        "print(solution1,'and',solution2)"
      ],
      "metadata": {
        "id": "6gNaH_oXG6ML"
      },
      "execution_count": null,
      "outputs": []
    },
    {
      "cell_type": "code",
      "source": [
        "#Write a Python program to swap two variables without temp variable?\n",
        "x = 56\n",
        "y = 66\n",
        "\n",
        "temp = x\n",
        "x = y\n",
        "y = temp\n",
        "\n",
        "print(x)\n",
        "print(y)"
      ],
      "metadata": {
        "colab": {
          "base_uri": "https://localhost:8080/"
        },
        "id": "oQeQ0GA9HH1l",
        "outputId": "c34f8faf-988f-4dcb-ec08-619d8e139065"
      },
      "execution_count": null,
      "outputs": [
        {
          "output_type": "stream",
          "name": "stdout",
          "text": [
            "66\n",
            "56\n"
          ]
        }
      ]
    },
    {
      "cell_type": "code",
      "source": [
        "#Write a Python Program to Check if a Number is Positive, Negative or Zero?\n",
        "num = int(input('Enter a number: '))\n",
        "if num>0:\n",
        "  print(num,' is positive')\n",
        "elif num==0:\n",
        "  print('Zero')\n",
        "elif num<0:\n",
        "  print(num,' is negative')"
      ],
      "metadata": {
        "colab": {
          "base_uri": "https://localhost:8080/"
        },
        "id": "K5hw0yW6HSB5",
        "outputId": "1b43f9b0-419f-48cb-8979-31b63689d4e1"
      },
      "execution_count": null,
      "outputs": [
        {
          "output_type": "stream",
          "name": "stdout",
          "text": [
            "Enter a number: 3\n",
            "3  is positive\n"
          ]
        }
      ]
    },
    {
      "cell_type": "code",
      "source": [
        "#Write a Python Program to Check if a Number is Odd or Even?\n",
        "num = int(input('Enter a number: '))\n",
        "if num%2==0:\n",
        "  print(num,' is Even')\n",
        "else:\n",
        "  print('{0} is Odd'.format(num))"
      ],
      "metadata": {
        "colab": {
          "base_uri": "https://localhost:8080/"
        },
        "id": "C60IwoZMHg7F",
        "outputId": "97d5eafd-217e-44db-8140-d32f54f15f4f"
      },
      "execution_count": null,
      "outputs": [
        {
          "output_type": "stream",
          "name": "stdout",
          "text": [
            "Enter a number: 23\n",
            "23 is Odd\n"
          ]
        }
      ]
    },
    {
      "cell_type": "code",
      "source": [
        "#Write a Python Program to Check Leap Year?\n",
        "year = int(input(\"Enter the year: \"))\n",
        "if year % 4 == 0 and year % 100 != 0:\n",
        "    print(year, \"is a leap year.\")\n",
        "elif year % 400 == 0:\n",
        "    print(year, \"is a leap year.\")\n",
        "elif year % 100 == 0:\n",
        "    print(year, \"is not a leap year.\")\n",
        "else:\n",
        "    print(year, \"is not a leap year.\")\n",
        "    "
      ],
      "metadata": {
        "colab": {
          "base_uri": "https://localhost:8080/"
        },
        "id": "errlhKcBHnVp",
        "outputId": "e1b8877a-b61d-4922-f419-48322c7f92b7"
      },
      "execution_count": null,
      "outputs": [
        {
          "output_type": "stream",
          "name": "stdout",
          "text": [
            "Enter the year: 2023\n",
            "2023 is not a leap year.\n"
          ]
        }
      ]
    },
    {
      "cell_type": "code",
      "source": [
        "#Write a Python Program to Check Prime Number?\n",
        "num = int(input(\"Enter a number: \"))\n",
        "\n",
        "if num > 1:\n",
        "   \n",
        "    for i in range(2, int(num/2)+1):\n",
        "        if (num % i) == 0:\n",
        "            print(num, \"is not a prime number\")\n",
        "            break\n",
        "    else:\n",
        "        print(num, \"is a prime number\")\n",
        "else:\n",
        "    print(num, \"is not a prime number\")"
      ],
      "metadata": {
        "colab": {
          "base_uri": "https://localhost:8080/"
        },
        "id": "273WPWVzHteJ",
        "outputId": "219d02e7-e2da-4fc3-d237-4299b4885c5f"
      },
      "execution_count": null,
      "outputs": [
        {
          "output_type": "stream",
          "name": "stdout",
          "text": [
            "Enter a number: 23\n",
            "23 is a prime number\n"
          ]
        }
      ]
    },
    {
      "cell_type": "code",
      "source": [
        "#Write a Python Program to Print all Prime Numbers in an Interval of 1-10000?\n",
        "lowerlimit = 1\n",
        "upperlimit = 10000\n",
        "\n",
        "for num in range(lowerlimit, upperlimit+ 1):\n",
        "   if num > 1:\n",
        "       for i in range(2, num):\n",
        "           if (num % i) == 0:\n",
        "               break\n",
        "       else:\n",
        "           print(num)"
      ],
      "metadata": {
        "colab": {
          "base_uri": "https://localhost:8080/"
        },
        "id": "P-t0esocH7F-",
        "outputId": "e78cbd1d-08aa-4ba2-fbc5-5c56eb16b6ec"
      },
      "execution_count": null,
      "outputs": [
        {
          "output_type": "stream",
          "name": "stdout",
          "text": [
            "2\n",
            "3\n",
            "5\n",
            "7\n",
            "11\n",
            "13\n",
            "17\n",
            "19\n",
            "23\n",
            "29\n",
            "31\n",
            "37\n",
            "41\n",
            "43\n",
            "47\n",
            "53\n",
            "59\n",
            "61\n",
            "67\n",
            "71\n",
            "73\n",
            "79\n",
            "83\n",
            "89\n",
            "97\n",
            "101\n",
            "103\n",
            "107\n",
            "109\n",
            "113\n",
            "127\n",
            "131\n",
            "137\n",
            "139\n",
            "149\n",
            "151\n",
            "157\n",
            "163\n",
            "167\n",
            "173\n",
            "179\n",
            "181\n",
            "191\n",
            "193\n",
            "197\n",
            "199\n",
            "211\n",
            "223\n",
            "227\n",
            "229\n",
            "233\n",
            "239\n",
            "241\n",
            "251\n",
            "257\n",
            "263\n",
            "269\n",
            "271\n",
            "277\n",
            "281\n",
            "283\n",
            "293\n",
            "307\n",
            "311\n",
            "313\n",
            "317\n",
            "331\n",
            "337\n",
            "347\n",
            "349\n",
            "353\n",
            "359\n",
            "367\n",
            "373\n",
            "379\n",
            "383\n",
            "389\n",
            "397\n",
            "401\n",
            "409\n",
            "419\n",
            "421\n",
            "431\n",
            "433\n",
            "439\n",
            "443\n",
            "449\n",
            "457\n",
            "461\n",
            "463\n",
            "467\n",
            "479\n",
            "487\n",
            "491\n",
            "499\n",
            "503\n",
            "509\n",
            "521\n",
            "523\n",
            "541\n",
            "547\n",
            "557\n",
            "563\n",
            "569\n",
            "571\n",
            "577\n",
            "587\n",
            "593\n",
            "599\n",
            "601\n",
            "607\n",
            "613\n",
            "617\n",
            "619\n",
            "631\n",
            "641\n",
            "643\n",
            "647\n",
            "653\n",
            "659\n",
            "661\n",
            "673\n",
            "677\n",
            "683\n",
            "691\n",
            "701\n",
            "709\n",
            "719\n",
            "727\n",
            "733\n",
            "739\n",
            "743\n",
            "751\n",
            "757\n",
            "761\n",
            "769\n",
            "773\n",
            "787\n",
            "797\n",
            "809\n",
            "811\n",
            "821\n",
            "823\n",
            "827\n",
            "829\n",
            "839\n",
            "853\n",
            "857\n",
            "859\n",
            "863\n",
            "877\n",
            "881\n",
            "883\n",
            "887\n",
            "907\n",
            "911\n",
            "919\n",
            "929\n",
            "937\n",
            "941\n",
            "947\n",
            "953\n",
            "967\n",
            "971\n",
            "977\n",
            "983\n",
            "991\n",
            "997\n",
            "1009\n",
            "1013\n",
            "1019\n",
            "1021\n",
            "1031\n",
            "1033\n",
            "1039\n",
            "1049\n",
            "1051\n",
            "1061\n",
            "1063\n",
            "1069\n",
            "1087\n",
            "1091\n",
            "1093\n",
            "1097\n",
            "1103\n",
            "1109\n",
            "1117\n",
            "1123\n",
            "1129\n",
            "1151\n",
            "1153\n",
            "1163\n",
            "1171\n",
            "1181\n",
            "1187\n",
            "1193\n",
            "1201\n",
            "1213\n",
            "1217\n",
            "1223\n",
            "1229\n",
            "1231\n",
            "1237\n",
            "1249\n",
            "1259\n",
            "1277\n",
            "1279\n",
            "1283\n",
            "1289\n",
            "1291\n",
            "1297\n",
            "1301\n",
            "1303\n",
            "1307\n",
            "1319\n",
            "1321\n",
            "1327\n",
            "1361\n",
            "1367\n",
            "1373\n",
            "1381\n",
            "1399\n",
            "1409\n",
            "1423\n",
            "1427\n",
            "1429\n",
            "1433\n",
            "1439\n",
            "1447\n",
            "1451\n",
            "1453\n",
            "1459\n",
            "1471\n",
            "1481\n",
            "1483\n",
            "1487\n",
            "1489\n",
            "1493\n",
            "1499\n",
            "1511\n",
            "1523\n",
            "1531\n",
            "1543\n",
            "1549\n",
            "1553\n",
            "1559\n",
            "1567\n",
            "1571\n",
            "1579\n",
            "1583\n",
            "1597\n",
            "1601\n",
            "1607\n",
            "1609\n",
            "1613\n",
            "1619\n",
            "1621\n",
            "1627\n",
            "1637\n",
            "1657\n",
            "1663\n",
            "1667\n",
            "1669\n",
            "1693\n",
            "1697\n",
            "1699\n",
            "1709\n",
            "1721\n",
            "1723\n",
            "1733\n",
            "1741\n",
            "1747\n",
            "1753\n",
            "1759\n",
            "1777\n",
            "1783\n",
            "1787\n",
            "1789\n",
            "1801\n",
            "1811\n",
            "1823\n",
            "1831\n",
            "1847\n",
            "1861\n",
            "1867\n",
            "1871\n",
            "1873\n",
            "1877\n",
            "1879\n",
            "1889\n",
            "1901\n",
            "1907\n",
            "1913\n",
            "1931\n",
            "1933\n",
            "1949\n",
            "1951\n",
            "1973\n",
            "1979\n",
            "1987\n",
            "1993\n",
            "1997\n",
            "1999\n",
            "2003\n",
            "2011\n",
            "2017\n",
            "2027\n",
            "2029\n",
            "2039\n",
            "2053\n",
            "2063\n",
            "2069\n",
            "2081\n",
            "2083\n",
            "2087\n",
            "2089\n",
            "2099\n",
            "2111\n",
            "2113\n",
            "2129\n",
            "2131\n",
            "2137\n",
            "2141\n",
            "2143\n",
            "2153\n",
            "2161\n",
            "2179\n",
            "2203\n",
            "2207\n",
            "2213\n",
            "2221\n",
            "2237\n",
            "2239\n",
            "2243\n",
            "2251\n",
            "2267\n",
            "2269\n",
            "2273\n",
            "2281\n",
            "2287\n",
            "2293\n",
            "2297\n",
            "2309\n",
            "2311\n",
            "2333\n",
            "2339\n",
            "2341\n",
            "2347\n",
            "2351\n",
            "2357\n",
            "2371\n",
            "2377\n",
            "2381\n",
            "2383\n",
            "2389\n",
            "2393\n",
            "2399\n",
            "2411\n",
            "2417\n",
            "2423\n",
            "2437\n",
            "2441\n",
            "2447\n",
            "2459\n",
            "2467\n",
            "2473\n",
            "2477\n",
            "2503\n",
            "2521\n",
            "2531\n",
            "2539\n",
            "2543\n",
            "2549\n",
            "2551\n",
            "2557\n",
            "2579\n",
            "2591\n",
            "2593\n",
            "2609\n",
            "2617\n",
            "2621\n",
            "2633\n",
            "2647\n",
            "2657\n",
            "2659\n",
            "2663\n",
            "2671\n",
            "2677\n",
            "2683\n",
            "2687\n",
            "2689\n",
            "2693\n",
            "2699\n",
            "2707\n",
            "2711\n",
            "2713\n",
            "2719\n",
            "2729\n",
            "2731\n",
            "2741\n",
            "2749\n",
            "2753\n",
            "2767\n",
            "2777\n",
            "2789\n",
            "2791\n",
            "2797\n",
            "2801\n",
            "2803\n",
            "2819\n",
            "2833\n",
            "2837\n",
            "2843\n",
            "2851\n",
            "2857\n",
            "2861\n",
            "2879\n",
            "2887\n",
            "2897\n",
            "2903\n",
            "2909\n",
            "2917\n",
            "2927\n",
            "2939\n",
            "2953\n",
            "2957\n",
            "2963\n",
            "2969\n",
            "2971\n",
            "2999\n",
            "3001\n",
            "3011\n",
            "3019\n",
            "3023\n",
            "3037\n",
            "3041\n",
            "3049\n",
            "3061\n",
            "3067\n",
            "3079\n",
            "3083\n",
            "3089\n",
            "3109\n",
            "3119\n",
            "3121\n",
            "3137\n",
            "3163\n",
            "3167\n",
            "3169\n",
            "3181\n",
            "3187\n",
            "3191\n",
            "3203\n",
            "3209\n",
            "3217\n",
            "3221\n",
            "3229\n",
            "3251\n",
            "3253\n",
            "3257\n",
            "3259\n",
            "3271\n",
            "3299\n",
            "3301\n",
            "3307\n",
            "3313\n",
            "3319\n",
            "3323\n",
            "3329\n",
            "3331\n",
            "3343\n",
            "3347\n",
            "3359\n",
            "3361\n",
            "3371\n",
            "3373\n",
            "3389\n",
            "3391\n",
            "3407\n",
            "3413\n",
            "3433\n",
            "3449\n",
            "3457\n",
            "3461\n",
            "3463\n",
            "3467\n",
            "3469\n",
            "3491\n",
            "3499\n",
            "3511\n",
            "3517\n",
            "3527\n",
            "3529\n",
            "3533\n",
            "3539\n",
            "3541\n",
            "3547\n",
            "3557\n",
            "3559\n",
            "3571\n",
            "3581\n",
            "3583\n",
            "3593\n",
            "3607\n",
            "3613\n",
            "3617\n",
            "3623\n",
            "3631\n",
            "3637\n",
            "3643\n",
            "3659\n",
            "3671\n",
            "3673\n",
            "3677\n",
            "3691\n",
            "3697\n",
            "3701\n",
            "3709\n",
            "3719\n",
            "3727\n",
            "3733\n",
            "3739\n",
            "3761\n",
            "3767\n",
            "3769\n",
            "3779\n",
            "3793\n",
            "3797\n",
            "3803\n",
            "3821\n",
            "3823\n",
            "3833\n",
            "3847\n",
            "3851\n",
            "3853\n",
            "3863\n",
            "3877\n",
            "3881\n",
            "3889\n",
            "3907\n",
            "3911\n",
            "3917\n",
            "3919\n",
            "3923\n",
            "3929\n",
            "3931\n",
            "3943\n",
            "3947\n",
            "3967\n",
            "3989\n",
            "4001\n",
            "4003\n",
            "4007\n",
            "4013\n",
            "4019\n",
            "4021\n",
            "4027\n",
            "4049\n",
            "4051\n",
            "4057\n",
            "4073\n",
            "4079\n",
            "4091\n",
            "4093\n",
            "4099\n",
            "4111\n",
            "4127\n",
            "4129\n",
            "4133\n",
            "4139\n",
            "4153\n",
            "4157\n",
            "4159\n",
            "4177\n",
            "4201\n",
            "4211\n",
            "4217\n",
            "4219\n",
            "4229\n",
            "4231\n",
            "4241\n",
            "4243\n",
            "4253\n",
            "4259\n",
            "4261\n",
            "4271\n",
            "4273\n",
            "4283\n",
            "4289\n",
            "4297\n",
            "4327\n",
            "4337\n",
            "4339\n",
            "4349\n",
            "4357\n",
            "4363\n",
            "4373\n",
            "4391\n",
            "4397\n",
            "4409\n",
            "4421\n",
            "4423\n",
            "4441\n",
            "4447\n",
            "4451\n",
            "4457\n",
            "4463\n",
            "4481\n",
            "4483\n",
            "4493\n",
            "4507\n",
            "4513\n",
            "4517\n",
            "4519\n",
            "4523\n",
            "4547\n",
            "4549\n",
            "4561\n",
            "4567\n",
            "4583\n",
            "4591\n",
            "4597\n",
            "4603\n",
            "4621\n",
            "4637\n",
            "4639\n",
            "4643\n",
            "4649\n",
            "4651\n",
            "4657\n",
            "4663\n",
            "4673\n",
            "4679\n",
            "4691\n",
            "4703\n",
            "4721\n",
            "4723\n",
            "4729\n",
            "4733\n",
            "4751\n",
            "4759\n",
            "4783\n",
            "4787\n",
            "4789\n",
            "4793\n",
            "4799\n",
            "4801\n",
            "4813\n",
            "4817\n",
            "4831\n",
            "4861\n",
            "4871\n",
            "4877\n",
            "4889\n",
            "4903\n",
            "4909\n",
            "4919\n",
            "4931\n",
            "4933\n",
            "4937\n",
            "4943\n",
            "4951\n",
            "4957\n",
            "4967\n",
            "4969\n",
            "4973\n",
            "4987\n",
            "4993\n",
            "4999\n",
            "5003\n",
            "5009\n",
            "5011\n",
            "5021\n",
            "5023\n",
            "5039\n",
            "5051\n",
            "5059\n",
            "5077\n",
            "5081\n",
            "5087\n",
            "5099\n",
            "5101\n",
            "5107\n",
            "5113\n",
            "5119\n",
            "5147\n",
            "5153\n",
            "5167\n",
            "5171\n",
            "5179\n",
            "5189\n",
            "5197\n",
            "5209\n",
            "5227\n",
            "5231\n",
            "5233\n",
            "5237\n",
            "5261\n",
            "5273\n",
            "5279\n",
            "5281\n",
            "5297\n",
            "5303\n",
            "5309\n",
            "5323\n",
            "5333\n",
            "5347\n",
            "5351\n",
            "5381\n",
            "5387\n",
            "5393\n",
            "5399\n",
            "5407\n",
            "5413\n",
            "5417\n",
            "5419\n",
            "5431\n",
            "5437\n",
            "5441\n",
            "5443\n",
            "5449\n",
            "5471\n",
            "5477\n",
            "5479\n",
            "5483\n",
            "5501\n",
            "5503\n",
            "5507\n",
            "5519\n",
            "5521\n",
            "5527\n",
            "5531\n",
            "5557\n",
            "5563\n",
            "5569\n",
            "5573\n",
            "5581\n",
            "5591\n",
            "5623\n",
            "5639\n",
            "5641\n",
            "5647\n",
            "5651\n",
            "5653\n",
            "5657\n",
            "5659\n",
            "5669\n",
            "5683\n",
            "5689\n",
            "5693\n",
            "5701\n",
            "5711\n",
            "5717\n",
            "5737\n",
            "5741\n",
            "5743\n",
            "5749\n",
            "5779\n",
            "5783\n",
            "5791\n",
            "5801\n",
            "5807\n",
            "5813\n",
            "5821\n",
            "5827\n",
            "5839\n",
            "5843\n",
            "5849\n",
            "5851\n",
            "5857\n",
            "5861\n",
            "5867\n",
            "5869\n",
            "5879\n",
            "5881\n",
            "5897\n",
            "5903\n",
            "5923\n",
            "5927\n",
            "5939\n",
            "5953\n",
            "5981\n",
            "5987\n",
            "6007\n",
            "6011\n",
            "6029\n",
            "6037\n",
            "6043\n",
            "6047\n",
            "6053\n",
            "6067\n",
            "6073\n",
            "6079\n",
            "6089\n",
            "6091\n",
            "6101\n",
            "6113\n",
            "6121\n",
            "6131\n",
            "6133\n",
            "6143\n",
            "6151\n",
            "6163\n",
            "6173\n",
            "6197\n",
            "6199\n",
            "6203\n",
            "6211\n",
            "6217\n",
            "6221\n",
            "6229\n",
            "6247\n",
            "6257\n",
            "6263\n",
            "6269\n",
            "6271\n",
            "6277\n",
            "6287\n",
            "6299\n",
            "6301\n",
            "6311\n",
            "6317\n",
            "6323\n",
            "6329\n",
            "6337\n",
            "6343\n",
            "6353\n",
            "6359\n",
            "6361\n",
            "6367\n",
            "6373\n",
            "6379\n",
            "6389\n",
            "6397\n",
            "6421\n",
            "6427\n",
            "6449\n",
            "6451\n",
            "6469\n",
            "6473\n",
            "6481\n",
            "6491\n",
            "6521\n",
            "6529\n",
            "6547\n",
            "6551\n",
            "6553\n",
            "6563\n",
            "6569\n",
            "6571\n",
            "6577\n",
            "6581\n",
            "6599\n",
            "6607\n",
            "6619\n",
            "6637\n",
            "6653\n",
            "6659\n",
            "6661\n",
            "6673\n",
            "6679\n",
            "6689\n",
            "6691\n",
            "6701\n",
            "6703\n",
            "6709\n",
            "6719\n",
            "6733\n",
            "6737\n",
            "6761\n",
            "6763\n",
            "6779\n",
            "6781\n",
            "6791\n",
            "6793\n",
            "6803\n",
            "6823\n",
            "6827\n",
            "6829\n",
            "6833\n",
            "6841\n",
            "6857\n",
            "6863\n",
            "6869\n",
            "6871\n",
            "6883\n",
            "6899\n",
            "6907\n",
            "6911\n",
            "6917\n",
            "6947\n",
            "6949\n",
            "6959\n",
            "6961\n",
            "6967\n",
            "6971\n",
            "6977\n",
            "6983\n",
            "6991\n",
            "6997\n",
            "7001\n",
            "7013\n",
            "7019\n",
            "7027\n",
            "7039\n",
            "7043\n",
            "7057\n",
            "7069\n",
            "7079\n",
            "7103\n",
            "7109\n",
            "7121\n",
            "7127\n",
            "7129\n",
            "7151\n",
            "7159\n",
            "7177\n",
            "7187\n",
            "7193\n",
            "7207\n",
            "7211\n",
            "7213\n",
            "7219\n",
            "7229\n",
            "7237\n",
            "7243\n",
            "7247\n",
            "7253\n",
            "7283\n",
            "7297\n",
            "7307\n",
            "7309\n",
            "7321\n",
            "7331\n",
            "7333\n",
            "7349\n",
            "7351\n",
            "7369\n",
            "7393\n",
            "7411\n",
            "7417\n",
            "7433\n",
            "7451\n",
            "7457\n",
            "7459\n",
            "7477\n",
            "7481\n",
            "7487\n",
            "7489\n",
            "7499\n",
            "7507\n",
            "7517\n",
            "7523\n",
            "7529\n",
            "7537\n",
            "7541\n",
            "7547\n",
            "7549\n",
            "7559\n",
            "7561\n",
            "7573\n",
            "7577\n",
            "7583\n",
            "7589\n",
            "7591\n",
            "7603\n",
            "7607\n",
            "7621\n",
            "7639\n",
            "7643\n",
            "7649\n",
            "7669\n",
            "7673\n",
            "7681\n",
            "7687\n",
            "7691\n",
            "7699\n",
            "7703\n",
            "7717\n",
            "7723\n",
            "7727\n",
            "7741\n",
            "7753\n",
            "7757\n",
            "7759\n",
            "7789\n",
            "7793\n",
            "7817\n",
            "7823\n",
            "7829\n",
            "7841\n",
            "7853\n",
            "7867\n",
            "7873\n",
            "7877\n",
            "7879\n",
            "7883\n",
            "7901\n",
            "7907\n",
            "7919\n",
            "7927\n",
            "7933\n",
            "7937\n",
            "7949\n",
            "7951\n",
            "7963\n",
            "7993\n",
            "8009\n",
            "8011\n",
            "8017\n",
            "8039\n",
            "8053\n",
            "8059\n",
            "8069\n",
            "8081\n",
            "8087\n",
            "8089\n",
            "8093\n",
            "8101\n",
            "8111\n",
            "8117\n",
            "8123\n",
            "8147\n",
            "8161\n",
            "8167\n",
            "8171\n",
            "8179\n",
            "8191\n",
            "8209\n",
            "8219\n",
            "8221\n",
            "8231\n",
            "8233\n",
            "8237\n",
            "8243\n",
            "8263\n",
            "8269\n",
            "8273\n",
            "8287\n",
            "8291\n",
            "8293\n",
            "8297\n",
            "8311\n",
            "8317\n",
            "8329\n",
            "8353\n",
            "8363\n",
            "8369\n",
            "8377\n",
            "8387\n",
            "8389\n",
            "8419\n",
            "8423\n",
            "8429\n",
            "8431\n",
            "8443\n",
            "8447\n",
            "8461\n",
            "8467\n",
            "8501\n",
            "8513\n",
            "8521\n",
            "8527\n",
            "8537\n",
            "8539\n",
            "8543\n",
            "8563\n",
            "8573\n",
            "8581\n",
            "8597\n",
            "8599\n",
            "8609\n",
            "8623\n",
            "8627\n",
            "8629\n",
            "8641\n",
            "8647\n",
            "8663\n",
            "8669\n",
            "8677\n",
            "8681\n",
            "8689\n",
            "8693\n",
            "8699\n",
            "8707\n",
            "8713\n",
            "8719\n",
            "8731\n",
            "8737\n",
            "8741\n",
            "8747\n",
            "8753\n",
            "8761\n",
            "8779\n",
            "8783\n",
            "8803\n",
            "8807\n",
            "8819\n",
            "8821\n",
            "8831\n",
            "8837\n",
            "8839\n",
            "8849\n",
            "8861\n",
            "8863\n",
            "8867\n",
            "8887\n",
            "8893\n",
            "8923\n",
            "8929\n",
            "8933\n",
            "8941\n",
            "8951\n",
            "8963\n",
            "8969\n",
            "8971\n",
            "8999\n",
            "9001\n",
            "9007\n",
            "9011\n",
            "9013\n",
            "9029\n",
            "9041\n",
            "9043\n",
            "9049\n",
            "9059\n",
            "9067\n",
            "9091\n",
            "9103\n",
            "9109\n",
            "9127\n",
            "9133\n",
            "9137\n",
            "9151\n",
            "9157\n",
            "9161\n",
            "9173\n",
            "9181\n",
            "9187\n",
            "9199\n",
            "9203\n",
            "9209\n",
            "9221\n",
            "9227\n",
            "9239\n",
            "9241\n",
            "9257\n",
            "9277\n",
            "9281\n",
            "9283\n",
            "9293\n",
            "9311\n",
            "9319\n",
            "9323\n",
            "9337\n",
            "9341\n",
            "9343\n",
            "9349\n",
            "9371\n",
            "9377\n",
            "9391\n",
            "9397\n",
            "9403\n",
            "9413\n",
            "9419\n",
            "9421\n",
            "9431\n",
            "9433\n",
            "9437\n",
            "9439\n",
            "9461\n",
            "9463\n",
            "9467\n",
            "9473\n",
            "9479\n",
            "9491\n",
            "9497\n",
            "9511\n",
            "9521\n",
            "9533\n",
            "9539\n",
            "9547\n",
            "9551\n",
            "9587\n",
            "9601\n",
            "9613\n",
            "9619\n",
            "9623\n",
            "9629\n",
            "9631\n",
            "9643\n",
            "9649\n",
            "9661\n",
            "9677\n",
            "9679\n",
            "9689\n",
            "9697\n",
            "9719\n",
            "9721\n",
            "9733\n",
            "9739\n",
            "9743\n",
            "9749\n",
            "9767\n",
            "9769\n",
            "9781\n",
            "9787\n",
            "9791\n",
            "9803\n",
            "9811\n",
            "9817\n",
            "9829\n",
            "9833\n",
            "9839\n",
            "9851\n",
            "9857\n",
            "9859\n",
            "9871\n",
            "9883\n",
            "9887\n",
            "9901\n",
            "9907\n",
            "9923\n",
            "9929\n",
            "9931\n",
            "9941\n",
            "9949\n",
            "9967\n",
            "9973\n"
          ]
        }
      ]
    },
    {
      "cell_type": "code",
      "source": [
        "#Write a Python Program to Find the Factorial of a Number?\n",
        "def factorial(a):\n",
        "  if a==1:\n",
        "    return 1\n",
        "  else:\n",
        "    return a*factorial(a-1)\n",
        "\n",
        "x = int(input())\n",
        "res = factorial(x)\n",
        "print(res)\n"
      ],
      "metadata": {
        "colab": {
          "base_uri": "https://localhost:8080/"
        },
        "id": "ZRxTqm4sICRC",
        "outputId": "757c03fd-18fa-4c59-f153-155b90692692"
      },
      "execution_count": null,
      "outputs": [
        {
          "output_type": "stream",
          "name": "stdout",
          "text": [
            "5\n",
            "120\n"
          ]
        }
      ]
    },
    {
      "cell_type": "code",
      "source": [
        "#Write a Python Program to Display the multiplication Table?\n",
        "number = int(input())\n",
        "for i in range(1,11):\n",
        "  print(number,\" x \",i,\" = \",number*i)"
      ],
      "metadata": {
        "colab": {
          "base_uri": "https://localhost:8080/"
        },
        "id": "QrDMJz5nIQmh",
        "outputId": "30c01d01-7e93-456f-83ed-e2db92ea8dc1"
      },
      "execution_count": null,
      "outputs": [
        {
          "output_type": "stream",
          "name": "stdout",
          "text": [
            "33\n",
            "33  x  1  =  33\n",
            "33  x  2  =  66\n",
            "33  x  3  =  99\n",
            "33  x  4  =  132\n",
            "33  x  5  =  165\n",
            "33  x  6  =  198\n",
            "33  x  7  =  231\n",
            "33  x  8  =  264\n",
            "33  x  9  =  297\n",
            "33  x  10  =  330\n"
          ]
        }
      ]
    },
    {
      "cell_type": "code",
      "source": [
        "#Write a Python Program to Print the Fibonacci sequence?\n",
        "n = int(input())\n",
        "a = 0\n",
        "b = 1\n",
        "res = 0\n",
        "if n <= 0 : \n",
        "  print(\"Not valid\")\n",
        "elif n == 1:\n",
        "  print(a)\n",
        "else:\n",
        "  print(\"Fibonnaci Sequence: \")\n",
        "  while res < n :\n",
        "    print(a)\n",
        "    nth= a + b\n",
        "    a = b \n",
        "    b = nth\n",
        "    res += 1"
      ],
      "metadata": {
        "colab": {
          "base_uri": "https://localhost:8080/"
        },
        "id": "RvDw8YKKIc1Y",
        "outputId": "e338496b-bf24-4154-e3fc-377d238aaf5f"
      },
      "execution_count": null,
      "outputs": [
        {
          "output_type": "stream",
          "name": "stdout",
          "text": [
            "33\n",
            "Fibonnaci Sequence: \n",
            "0\n",
            "1\n",
            "1\n",
            "2\n",
            "3\n",
            "5\n",
            "8\n",
            "13\n",
            "21\n",
            "34\n",
            "55\n",
            "89\n",
            "144\n",
            "233\n",
            "377\n",
            "610\n",
            "987\n",
            "1597\n",
            "2584\n",
            "4181\n",
            "6765\n",
            "10946\n",
            "17711\n",
            "28657\n",
            "46368\n",
            "75025\n",
            "121393\n",
            "196418\n",
            "317811\n",
            "514229\n",
            "832040\n",
            "1346269\n",
            "2178309\n"
          ]
        }
      ]
    },
    {
      "cell_type": "code",
      "source": [
        "#Write a Python Program to Check Armstrong Number?\n",
        "n= int(input(\"Enter a number: \"))\n",
        "s = 0 \n",
        "t = n \n",
        "while t > 0:\n",
        "  digit = t%10\n",
        "  s += digit**3\n",
        "  t = t//10\n",
        "\n",
        "if n == s:\n",
        "   print(n,\"is an Armstrong number\")\n",
        "else:\n",
        "   print(n,\"is not an Armstrong number\")"
      ],
      "metadata": {
        "colab": {
          "base_uri": "https://localhost:8080/"
        },
        "id": "cKN_7UurIjGx",
        "outputId": "8601e474-fb86-41ba-9f63-2e3f76856f7a"
      },
      "execution_count": null,
      "outputs": [
        {
          "output_type": "stream",
          "name": "stdout",
          "text": [
            "Enter a number: 22\n",
            "22 is not an Armstrong number\n"
          ]
        }
      ]
    },
    {
      "cell_type": "code",
      "source": [
        "#Write a Python Program to Find Armstrong Number in an Interval?\n",
        "lower  = int(input(\"enter the lower limit: \"))\n",
        "upper = int(input(\"enter the upper limit: \"))\n",
        "for i in range(lower, upper+1):\n",
        "  sum =0\n",
        "  num = i\n",
        "  while(i!=0):\n",
        "    digit=i%10\n",
        "    sum = sum + (digit**3)\n",
        "    i = i//10\n",
        "  if num == sum:\n",
        "    print(num)"
      ],
      "metadata": {
        "colab": {
          "base_uri": "https://localhost:8080/"
        },
        "id": "imvIYnKpIt5H",
        "outputId": "f10afe09-dc19-4978-cc06-2ce857e916f6"
      },
      "execution_count": null,
      "outputs": [
        {
          "name": "stdout",
          "output_type": "stream",
          "text": [
            "enter the lower limit: 23\n",
            "enter the upper limit: 45\n"
          ]
        }
      ]
    },
    {
      "cell_type": "code",
      "source": [
        "#Write a Python Program to Find the Sum of Natural Numbers?\n",
        "def sumofn(n):\n",
        "   if n <= 1:\n",
        "       return n\n",
        "   else:\n",
        "       return n + sumofn(n-1)\n",
        "x = int(input(\"Enter a number: \"))\n",
        "s = sumofn(x)\n",
        "print(s)"
      ],
      "metadata": {
        "colab": {
          "base_uri": "https://localhost:8080/"
        },
        "id": "i5tQpJwNI07Z",
        "outputId": "ba682560-a78b-4090-ff22-3dfd3798fefc"
      },
      "execution_count": null,
      "outputs": [
        {
          "output_type": "stream",
          "name": "stdout",
          "text": [
            "Enter a number: 32\n",
            "528\n"
          ]
        }
      ]
    },
    {
      "cell_type": "code",
      "source": [
        "#Write a Python Program to find sum of array?\n",
        "arr = [12, 23, 34, 45, 55]\n",
        "for i in arr:\n",
        "  sum += i\n",
        "print(sum)"
      ],
      "metadata": {
        "colab": {
          "base_uri": "https://localhost:8080/"
        },
        "id": "ySfoogrJJA7R",
        "outputId": "704a4148-6697-4954-df20-60a97c8b6c5f"
      },
      "execution_count": null,
      "outputs": [
        {
          "output_type": "stream",
          "name": "stdout",
          "text": [
            "358\n"
          ]
        }
      ]
    },
    {
      "cell_type": "code",
      "source": [
        "#Write a Python Program to find largest element in an array?\n",
        "arr = [24, 37, 46, 53, 160]\n",
        "for i in arr:\n",
        "  sum += i\n",
        "print(sum)\n"
      ],
      "metadata": {
        "colab": {
          "base_uri": "https://localhost:8080/"
        },
        "id": "vFsu10_HJKmB",
        "outputId": "f5b3db78-481d-4733-c3f2-715ad3840972"
      },
      "execution_count": null,
      "outputs": [
        {
          "output_type": "stream",
          "name": "stdout",
          "text": [
            "678\n"
          ]
        }
      ]
    },
    {
      "cell_type": "code",
      "source": [
        "#Write a Python Program for array rotation?\n",
        "def rotateArray(a,d):\n",
        "    temp = []\n",
        "    n=len(a)\n",
        "    for i in range(d,n):\n",
        "        temp.append(a[i])\n",
        "    i = 0\n",
        "    for i in range (0,d):\n",
        "        temp.append(a[i])\n",
        "    a=temp.copy()\n",
        "    return a\n",
        " \n",
        "arr = [18,29,30,41,52,63,74]\n",
        "print(\"Array after left rotation is: \", end=' ')\n",
        "print(rotateArray(arr, 2))"
      ],
      "metadata": {
        "colab": {
          "base_uri": "https://localhost:8080/"
        },
        "id": "Aw3vg5cEJWCM",
        "outputId": "1be89f86-d699-4715-91e8-d42f119a7cc1"
      },
      "execution_count": null,
      "outputs": [
        {
          "output_type": "stream",
          "name": "stdout",
          "text": [
            "Array after left rotation is:  [30, 41, 52, 63, 74, 18, 29]\n"
          ]
        }
      ]
    },
    {
      "cell_type": "code",
      "source": [
        "#Write a Python Program to Split the array and add the first part to the end?\n",
        "def splitArr(arr, n, k): \n",
        "    for i in range(0, k): \n",
        "        x = arr[0]\n",
        "        for j in range(0, n-1):\n",
        "            arr[j] = arr[j + 1]\n",
        "          \n",
        "        arr[n-1] = x\n",
        "          \n",
        "arr = [10,20,45,52,62,36]\n",
        "n = len(arr)\n",
        "position = 2\n",
        "  \n",
        "splitArr(arr, n, position)\n",
        "  \n",
        "for i in range(0, n): \n",
        "    print(arr[i], end = ' ')"
      ],
      "metadata": {
        "colab": {
          "base_uri": "https://localhost:8080/"
        },
        "id": "RDQvp0UqJiCD",
        "outputId": "1e586174-b32b-4d63-ff01-4187fc7d7c98"
      },
      "execution_count": null,
      "outputs": [
        {
          "output_type": "stream",
          "name": "stdout",
          "text": [
            "45 52 62 36 10 20 "
          ]
        }
      ]
    },
    {
      "cell_type": "code",
      "source": [
        "#Write a Python Program to check if given array is Monotonic?\n",
        "def isMonotonic(A):\n",
        "  \n",
        "    return (all(A[i] <= A[i + 1] for i in range(len(A) - 1)) or\n",
        "            all(A[i] >= A[i + 1] for i in range(len(A) - 1)))\n",
        "A = [17,28,33,45]\n",
        "print(isMonotonic(A))"
      ],
      "metadata": {
        "colab": {
          "base_uri": "https://localhost:8080/"
        },
        "id": "kKcnBDOmJxlR",
        "outputId": "8761b0d7-5d5c-4040-a001-d5c53835c4ce"
      },
      "execution_count": null,
      "outputs": [
        {
          "output_type": "stream",
          "name": "stdout",
          "text": [
            "True\n"
          ]
        }
      ]
    },
    {
      "cell_type": "code",
      "source": [
        "#Write a Python program to find sum of elements in list?\n",
        "a = 0\n",
        "list1 = [32, 45,17,25,53]\n",
        "for ele in range(0, len(list1)):\n",
        "    a = a + list1[ele]\n",
        "print(\"Sum of all elements in given list: \",a )"
      ],
      "metadata": {
        "colab": {
          "base_uri": "https://localhost:8080/"
        },
        "id": "iGk_DcfqJ768",
        "outputId": "fa703a14-1dd3-4008-b921-e16baa7b84c8"
      },
      "execution_count": null,
      "outputs": [
        {
          "output_type": "stream",
          "name": "stdout",
          "text": [
            "Sum of all elements in given list:  172\n"
          ]
        }
      ]
    },
    {
      "cell_type": "code",
      "source": [
        "#Write a Python program to Multiply all numbers in the list?\n",
        "def multiplyList(myList) :\n",
        "    result = 1\n",
        "    for x in myList:\n",
        "         result = result * x\n",
        "    return result\n",
        "     \n",
        "list1 = [24,32,13]\n",
        "list2 = [123, 125,124]\n",
        "print(multiplyList(list1))\n",
        "print(multiplyList(list2))"
      ],
      "metadata": {
        "colab": {
          "base_uri": "https://localhost:8080/"
        },
        "id": "AS5OTo8RKGSj",
        "outputId": "25f590e5-9143-48a4-ab5d-d260fc4338b3"
      },
      "execution_count": null,
      "outputs": [
        {
          "output_type": "stream",
          "name": "stdout",
          "text": [
            "9984\n",
            "1906500\n"
          ]
        }
      ]
    },
    {
      "cell_type": "code",
      "source": [
        "#Write a Python program to find smallest number in a list?\n",
        "l = [20, 320,34,25,99]\n",
        "l.sort()\n",
        "print(\"Smallest element is:\", *l[:1])"
      ],
      "metadata": {
        "colab": {
          "base_uri": "https://localhost:8080/"
        },
        "id": "psUmS7EWKSLn",
        "outputId": "ab7dfc28-9c9f-4cbf-8a2b-7e53cb94ed46"
      },
      "execution_count": null,
      "outputs": [
        {
          "output_type": "stream",
          "name": "stdout",
          "text": [
            "Smallest element is: 20\n"
          ]
        }
      ]
    },
    {
      "cell_type": "code",
      "source": [
        "#Write a Python program to find largest number in a list?\n",
        "l = [124, 150, 2154, 2345, 4199]\n",
        "print(\"Largest element is:\", max(l))"
      ],
      "metadata": {
        "colab": {
          "base_uri": "https://localhost:8080/"
        },
        "id": "Td7U8Nf1KcRV",
        "outputId": "2f3de9e3-12e8-4a65-d3e6-f34426b1b7e3"
      },
      "execution_count": null,
      "outputs": [
        {
          "output_type": "stream",
          "name": "stdout",
          "text": [
            "Largest element is: 4199\n"
          ]
        }
      ]
    },
    {
      "cell_type": "code",
      "source": [
        "#Write a Python program to find second largest number in a list?\n",
        "lis = [20,420,134, 814,389]\n",
        "mx = max(lis[0], lis[1])\n",
        "secondmax = min(lis[0], lis[1])\n",
        "n = len(lis)\n",
        "for i in range(2,n):\n",
        "    if lis[i] > mx:\n",
        "        secondmax = mx\n",
        "        mx = lis[i]\n",
        "    elif lis[i] > secondmax and \\\n",
        "        mx != lis[i]:\n",
        "        secondmax = lis[i]\n",
        "    elif mx == secondmax and \\\n",
        "        secondmax != lis[i]:\n",
        "          secondmax = lis[i]\n",
        " \n",
        "print(\"Second highest number is : \",\\\n",
        "      str(secondmax))"
      ],
      "metadata": {
        "colab": {
          "base_uri": "https://localhost:8080/"
        },
        "id": "6_jOZbp4KkaX",
        "outputId": "65292588-3411-41ab-a968-004043074d5e"
      },
      "execution_count": null,
      "outputs": [
        {
          "output_type": "stream",
          "name": "stdout",
          "text": [
            "Second highest number is :  420\n"
          ]
        }
      ]
    },
    {
      "cell_type": "code",
      "source": [
        "#Write a Python program to find N largest elements from a list?\n",
        "def Nmaxelements(lis, N):\n",
        "    final_lis = []\n",
        "  \n",
        "    for i in range(0, N): \n",
        "        max1 = 0\n",
        "          \n",
        "        for j in range(len(lis)):     \n",
        "            if lis[j] > max1:\n",
        "                max1 = lis[j];\n",
        "                  \n",
        "        lis.remove(max1);\n",
        "        final_lis.append(max1)\n",
        "          \n",
        "    print(final_lis)\n",
        "lis = [322, 116, 221,1385, 110, 133, 223, 1166, 210]\n",
        "N = 2\n",
        "Nmaxelements(lis, N)"
      ],
      "metadata": {
        "colab": {
          "base_uri": "https://localhost:8080/"
        },
        "id": "yXJGEJ9fKvVm",
        "outputId": "dfa2b73f-1947-496f-ce42-b08e45243325"
      },
      "execution_count": null,
      "outputs": [
        {
          "output_type": "stream",
          "name": "stdout",
          "text": [
            "[1385, 1166]\n"
          ]
        }
      ]
    },
    {
      "cell_type": "code",
      "source": [
        "#Write a Python program to print even numbers in a list?\n",
        "lis = [20, 14, 84, 24,5, 93]\n",
        "num = 0\n",
        "while(num < len(lis)):\n",
        "    if lis[num] % 2 == 0:\n",
        "        print(lis[num], end=\" \")\n",
        "    num += 1"
      ],
      "metadata": {
        "colab": {
          "base_uri": "https://localhost:8080/"
        },
        "id": "myTLtRc6K7Uu",
        "outputId": "b51dc8f5-5224-4433-b89c-d315bfd3eafc"
      },
      "execution_count": null,
      "outputs": [
        {
          "output_type": "stream",
          "name": "stdout",
          "text": [
            "20 14 84 24 "
          ]
        }
      ]
    },
    {
      "cell_type": "code",
      "source": [
        "#Write a Python program to print odd numbers in a List?\n",
        "lis = [12,222, 134, 125, 116, 223]\n",
        "for num in lis:\n",
        "     \n",
        "    # checking condition\n",
        "    if num % 2 != 0:\n",
        "       print(num, end = \" \")"
      ],
      "metadata": {
        "colab": {
          "base_uri": "https://localhost:8080/"
        },
        "id": "yV7Cc3AkLEy8",
        "outputId": "b774d81d-2fbf-49ff-fbf4-9d73b43c677d"
      },
      "execution_count": null,
      "outputs": [
        {
          "output_type": "stream",
          "name": "stdout",
          "text": [
            "125 223 "
          ]
        }
      ]
    },
    {
      "cell_type": "code",
      "source": [
        "#Write a Python program to Remove empty List from List?\n",
        "lis = [3,16, [], 23, [], [], 39]\n",
        "print(\"The original list is : \" + str(lis))\n",
        "res = [ele for ele in lis if ele != []]\n",
        "print(\"List after empty list removal : \"+ str(res))"
      ],
      "metadata": {
        "id": "OOc-WnAILNjh"
      },
      "execution_count": null,
      "outputs": []
    },
    {
      "cell_type": "code",
      "source": [
        "#Write a Python program to Cloning or Copying a list?\n",
        "def Cloning(l1):\n",
        "    li_copy = l1[:]\n",
        "    return li_copy\n",
        "l1 = [45,15, 42, 110,15, 128]\n",
        "l2 = Cloning(l1)\n",
        "print(\"Original List:\", l1)\n",
        "print(\"After Cloning:\", l2)\n"
      ],
      "metadata": {
        "colab": {
          "base_uri": "https://localhost:8080/"
        },
        "id": "Nf0MGDL4LWcr",
        "outputId": "954a9e8d-ae3f-4bd2-e668-16b2c21d7af2"
      },
      "execution_count": null,
      "outputs": [
        {
          "output_type": "stream",
          "name": "stdout",
          "text": [
            "Original List: [45, 15, 42, 110, 15, 128]\n",
            "After Cloning: [45, 15, 42, 110, 15, 128]\n"
          ]
        }
      ]
    },
    {
      "cell_type": "code",
      "source": [
        "#Write a Python program to Count occurrences of an element in a list?\n",
        "def countX(lst, x):\n",
        "    count = 0\n",
        "    for ele in lst:\n",
        "        if (ele == x):\n",
        "            count = count + 1\n",
        "    return count\n",
        "lst = [1, 17, 17, 12, 12, 10, 20, 20, 7]\n",
        "x = 7\n",
        "print('{} has occurred {} times'.format(x, countX(lst, x)))"
      ],
      "metadata": {
        "colab": {
          "base_uri": "https://localhost:8080/"
        },
        "id": "y_yeH76wLgbC",
        "outputId": "0da3ee8b-1d91-46cf-c73d-388b3b23faef"
      },
      "execution_count": null,
      "outputs": [
        {
          "output_type": "stream",
          "name": "stdout",
          "text": [
            "7 has occurred 1 times\n"
          ]
        }
      ]
    }
  ]
}