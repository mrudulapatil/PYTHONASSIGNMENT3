{
  "cells": [
    {
      "cell_type": "markdown",
      "metadata": {
        "id": "view-in-github",
        "colab_type": "text"
      },
      "source": [
        "<a href=\"https://colab.research.google.com/github/mrudulapatil/PYTHONASSIGNMENT3/blob/main/Copy_of_Welcome_To_Colaboratory.ipynb\" target=\"_parent\"><img src=\"https://colab.research.google.com/assets/colab-badge.svg\" alt=\"Open In Colab\"/></a>"
      ]
    },
    {
      "cell_type": "code",
      "source": [
        "##Create a function that takes three arguments a, b, c and returns the sum of the numbers that are evenly divided by c from the range a, b inclusive.\n",
        "def divide(a,b,c):\n",
        "  sum1 =[]\n",
        "  add1 = 0\n",
        "  for i in range(a,b+1):\n",
        "    if i%c==0:\n",
        "      sum1.append(i)\n",
        "    else:\n",
        "      pass\n",
        "  if sum(sum1)==0:\n",
        "    print(\"no number between\", a ,\"and\", b, \"can be evenly divided by \", c)\n",
        "  else:\n",
        "    total = sum(sum1)\n",
        "    print(\"the sum of the numbers that are evenly divided by \", c, \"from the range  \", a ,\"to \",  b,\"is\",total)\n",
        "divide(4,11,22)"
      ],
      "metadata": {
        "id": "_0oUaQFfy5r_",
        "outputId": "5a7fde78-39b1-4a08-8637-65f7d35cba11",
        "colab": {
          "base_uri": "https://localhost:8080/"
        }
      },
      "execution_count": null,
      "outputs": [
        {
          "output_type": "stream",
          "name": "stdout",
          "text": [
            "no number between 4 and 11 can be evenly divided by  22\n"
          ]
        }
      ]
    },
    {
      "cell_type": "code",
      "source": [
        "\n",
        "#Create a function that returns True if a given inequality expression is correct and False otherwise.\n",
        "def check(s):\n",
        "    abc=eval(s)\n",
        "    if abc:\n",
        "        return True\n",
        "    else:\n",
        "      return False\n",
        "\n",
        "\n",
        "print(check(\"12 < 17 < 125\"))"
      ],
      "metadata": {
        "id": "5kApcIkQ4BaH",
        "outputId": "10a6eff8-fda3-4777-bc17-77155ccbd6d2",
        "colab": {
          "base_uri": "https://localhost:8080/"
        }
      },
      "execution_count": null,
      "outputs": [
        {
          "output_type": "stream",
          "name": "stdout",
          "text": [
            "True\n"
          ]
        }
      ]
    },
    {
      "cell_type": "code",
      "source": [],
      "metadata": {
        "id": "PFhUuQc45ZcM"
      },
      "execution_count": null,
      "outputs": []
    },
    {
      "cell_type": "code",
      "source": [
        "#2Create a function that replaces all the vowels in a string with a specified character.\n",
        "def replace():\n",
        "  print(\"Enter a string: \")\n",
        "  str =input()\n",
        "  print(\"enter desired character: \")\n",
        "  char=input()\n",
        "  newstr= \"\"\n",
        "  for i in range(len(str)):\n",
        "    if str[i]=='a' or str[i]=='e'or str[i]=='i'or str[i]=='o'or str[i]=='u' :\n",
        "      newstr = newstr +char\n",
        "    else:\n",
        "      newstr = newstr +str[i]\n",
        "  print(\"\\nOriginal String: \", str)\n",
        "  print(\"New string: \", newstr)\n",
        "replace()"
      ],
      "metadata": {
        "id": "6ew8UZ2T3wbn",
        "outputId": "635de85b-fe12-4b65-d7f0-69b3014a7b0c",
        "colab": {
          "base_uri": "https://localhost:8080/"
        }
      },
      "execution_count": null,
      "outputs": [
        {
          "output_type": "stream",
          "name": "stdout",
          "text": [
            "Enter a string: \n",
            "greenworld\n",
            "enter desired character: \n",
            "X\n",
            "\n",
            "Original String:  greenworld\n",
            "New string:  grXXnwXrld\n"
          ]
        }
      ]
    },
    {
      "cell_type": "code",
      "source": [
        "#Write a function that calculates the factorial of a number recursively.\n",
        "def factorial(n): \n",
        "    if (n==1 or n==0): \n",
        "        return 1\n",
        "    else:     \n",
        "        return (n * factorial(n - 1)) \n",
        "  \n",
        "num = 23\n",
        "print(\"number : \",num)\n",
        "print(\"Factorial : \",factorial(num))"
      ],
      "metadata": {
        "id": "2-2vCXot5qYs",
        "outputId": "0ad58443-0008-47d5-8641-969456dc47d0",
        "colab": {
          "base_uri": "https://localhost:8080/"
        }
      },
      "execution_count": null,
      "outputs": [
        {
          "output_type": "stream",
          "name": "stdout",
          "text": [
            "number :  23\n",
            "Factorial :  25852016738884976640000\n"
          ]
        }
      ]
    },
    {
      "cell_type": "code",
      "source": [
        "\n",
        "#Create a function that computes the hamming distance between two strings.\n",
        "#Create a function that computes the hamming distance between two strings.\n",
        "def hammingDist(str1, str2):\n",
        "    i = 0\n",
        "    count = 0\n",
        " \n",
        "    while(i < len(str1)):\n",
        "        if(str1[i] != str2[i]):\n",
        "            count += 1\n",
        "        i += 1\n",
        "    return count\n",
        " \n",
        "str1 = \"strong\"\n",
        "str2 = \"strung\"\n",
        "\n",
        "print(hammingDist(str1, str2))\n",
        "\n"
      ],
      "metadata": {
        "id": "S4bT3buq6Hac",
        "outputId": "26f9611d-e23a-4956-f5c2-e923ec2871d3",
        "colab": {
          "base_uri": "https://localhost:8080/"
        }
      },
      "execution_count": null,
      "outputs": [
        {
          "output_type": "stream",
          "name": "stdout",
          "text": [
            "1\n"
          ]
        }
      ]
    },
    {
      "cell_type": "code",
      "source": [
        "#Create a function that takes a list of non-negative integers and strings and return a new list without the strings.\n",
        "def filter_list(l):  \n",
        "    output = []\n",
        "    for i in l:  \n",
        "        if type(i) != str:  \n",
        "            output.append(i)  \n",
        "    return output\n",
        "\n",
        "print(filter_list([154,26,'B','R',144,116,'W']))"
      ],
      "metadata": {
        "id": "vaDxwqwh6rO3",
        "outputId": "79803174-98b6-4444-ca14-bfcc0f6bb503",
        "colab": {
          "base_uri": "https://localhost:8080/"
        }
      },
      "execution_count": null,
      "outputs": [
        {
          "output_type": "stream",
          "name": "stdout",
          "text": [
            "[154, 26, 144, 116]\n"
          ]
        }
      ]
    },
    {
      "cell_type": "code",
      "source": [
        "#The \"Reverser\" takes a string as input and returns that string in reverse order, with the opposite case.\n",
        "def reverse(str):\n",
        "    str = str[::-1]\n",
        "    return str.swapcase()\n",
        "\n",
        "reverse('PEACEMAKER')"
      ],
      "metadata": {
        "id": "Pw3LLWW7602c",
        "outputId": "9b2cc86e-0b03-4765-f148-a112613eee22",
        "colab": {
          "base_uri": "https://localhost:8080/",
          "height": 35
        }
      },
      "execution_count": null,
      "outputs": [
        {
          "output_type": "execute_result",
          "data": {
            "text/plain": [
              "'rekamecaep'"
            ],
            "application/vnd.google.colaboratory.intrinsic+json": {
              "type": "string"
            }
          },
          "metadata": {},
          "execution_count": 17
        }
      ]
    },
    {
      "cell_type": "code",
      "source": [
        "#with middle being everything in between the first and last element.\n",
        "list=[1,2,3,4,5,6]\n",
        "first=list[0]\n",
        "middle=list[1:-1]\n",
        "last=list[-1]\n",
        "print(\"first =\",first )\n",
        "print(\"middle =\",middle)\n",
        "print(\"last = \",last)"
      ],
      "metadata": {
        "id": "82QvuEMl68Zr",
        "outputId": "b63a546a-f0fd-449b-e709-2a70dbb0c823",
        "colab": {
          "base_uri": "https://localhost:8080/"
        }
      },
      "execution_count": null,
      "outputs": [
        {
          "output_type": "stream",
          "name": "stdout",
          "text": [
            "first = 1\n",
            "middle = [2, 3, 4, 5]\n",
            "last =  6\n"
          ]
        }
      ]
    },
    {
      "cell_type": "code",
      "source": [
        "#Write a function that moves all elements of one type to the end of the list.\n",
        "def move_end(array, toMove):\n",
        "    i = 0\n",
        "    s = len(array) - 1\n",
        "    while (i < s):\n",
        "        while (i < s and array[s] == toMove):\n",
        "            s-=1\n",
        "  \n",
        "        if (array[i] == toMove):\n",
        "            array[i], array[s] = array[s] , array[i]\n",
        "        i += 1\n",
        "    return array\n",
        "\n",
        "arr = ['l', 'l', 'l', 'a']\n",
        "k = 'l'\n",
        "ans = move_end(arr, k)\n",
        "for i in range(len(arr)):\n",
        "    print(ans[i] ,end= \" \")"
      ],
      "metadata": {
        "id": "V1lvX76c7QHU",
        "outputId": "c1bd065d-82e8-47f1-d2d1-157991d065d9",
        "colab": {
          "base_uri": "https://localhost:8080/"
        }
      },
      "execution_count": null,
      "outputs": [
        {
          "output_type": "stream",
          "name": "stdout",
          "text": [
            "a l l l "
          ]
        }
      ]
    },
    {
      "cell_type": "code",
      "source": [
        "#Create a function that takes a string and returns a string in which each character is repeated once.\n",
        "def double(str):\n",
        "    return ''.join([c+c for c in str])\n",
        "\n",
        "print(double('planetearth'))"
      ],
      "metadata": {
        "id": "qyQ-bqPz7fIT",
        "outputId": "46e69b8c-587b-4c69-eb7d-5afa2553e0c4",
        "colab": {
          "base_uri": "https://localhost:8080/"
        }
      },
      "execution_count": null,
      "outputs": [
        {
          "output_type": "stream",
          "name": "stdout",
          "text": [
            "ppllaanneetteeaarrtthh\n"
          ]
        }
      ]
    },
    {
      "cell_type": "code",
      "source": [
        "#Create a function that reverses a boolean value and returns the string \"boolean expected\" if another variable type is given.\n",
        "def reverse(arg=None):\n",
        "    return not arg if type(arg) == bool else \"boolean expected\"\n",
        "\n",
        "print(reverse(True))\n",
        "print(reverse(False))\n",
        "print(reverse(0))\n",
        "print(reverse(None))"
      ],
      "metadata": {
        "id": "7o9EzKPP7oGz",
        "outputId": "7089e883-b162-4193-b880-7b5ebac515af",
        "colab": {
          "base_uri": "https://localhost:8080/"
        }
      },
      "execution_count": null,
      "outputs": [
        {
          "output_type": "stream",
          "name": "stdout",
          "text": [
            "False\n",
            "True\n",
            "boolean expected\n",
            "boolean expected\n"
          ]
        }
      ]
    },
    {
      "cell_type": "code",
      "source": [
        "#Create a function that returns the thickness (in meters) of a piece of paper after folding it n number of times. The paper starts off with a thickness of 0.5mm.\n",
        "def layers(n):\n",
        "    thickness = 0.5\n",
        "    for _ in range(n):\n",
        "        thickness *= 2\n",
        "    return str(thickness / 1000)+'m' # for meters\n",
        "\n",
        "print(layers(2))\n",
        "print(layers(3))"
      ],
      "metadata": {
        "id": "_n_PaoYd7s4U",
        "outputId": "2299d7bd-1eb6-47fb-da58-724505975876",
        "colab": {
          "base_uri": "https://localhost:8080/"
        }
      },
      "execution_count": null,
      "outputs": [
        {
          "output_type": "stream",
          "name": "stdout",
          "text": [
            "0.002m\n",
            "0.004m\n"
          ]
        }
      ]
    },
    {
      "cell_type": "code",
      "source": [
        "#Create a function that takes a single string as argument and returns an ordered list containing the indices of all capital letters in the string\n",
        "def index_of_cap(word):\n",
        "    indices = []\n",
        "    for i in range(len(word)):\n",
        "        if word[i].isupper():\n",
        "             indices.append(i)\n",
        "    return indices\n",
        "\n",
        "print(index_of_cap('BReaKER'))\n",
        "print(index_of_cap('JGUjbIh'))\n",
        "print(index_of_cap('aderdd'))"
      ],
      "metadata": {
        "id": "k6Mb-xLa723y",
        "outputId": "0204a1ed-5fd3-4150-f964-f4d2e8bee930",
        "colab": {
          "base_uri": "https://localhost:8080/"
        }
      },
      "execution_count": null,
      "outputs": [
        {
          "output_type": "stream",
          "name": "stdout",
          "text": [
            "[0, 1, 4, 5, 6]\n",
            "[0, 1, 2, 5]\n",
            "[]\n"
          ]
        }
      ]
    },
    {
      "cell_type": "code",
      "source": [
        "#Using list comprehensions, create a function that finds all even numbers from 1 to the given number.\n",
        "def find_even_no(n):\n",
        "    even =[x for x in range(2,n+1) if x % 2 == 0]\n",
        "    return even\n",
        "\n",
        "n = int(input('Enter a number : '))\n",
        "find_even_no(n)"
      ],
      "metadata": {
        "id": "yShYT57h8EpK",
        "outputId": "8056c1ee-1e50-4da0-e6fa-c2b8244f671d",
        "colab": {
          "base_uri": "https://localhost:8080/"
        }
      },
      "execution_count": null,
      "outputs": [
        {
          "name": "stdout",
          "output_type": "stream",
          "text": [
            "Enter a number : 11\n"
          ]
        },
        {
          "output_type": "execute_result",
          "data": {
            "text/plain": [
              "[2, 4, 6, 8, 10]"
            ]
          },
          "metadata": {},
          "execution_count": 27
        }
      ]
    },
    {
      "cell_type": "code",
      "source": [
        "\n",
        "\n",
        "#Create a function that takes a list of strings and integers, and filters out the list so that it returns a list of integers only\n",
        "def filter_list(lst):\n",
        "    intlst = []\n",
        "    for i in lst:\n",
        "        if type(i) == int:\n",
        "            intlst.append(i)\n",
        "    return intlst \n",
        "\n",
        "filter_list([13, 22, 31, 'M', 'R', 41])"
      ],
      "metadata": {
        "id": "KKm6vCNh8LaR",
        "outputId": "bb3feaa3-1358-4e1f-ce07-2d5d3c4e2a14",
        "colab": {
          "base_uri": "https://localhost:8080/"
        }
      },
      "execution_count": null,
      "outputs": [
        {
          "output_type": "execute_result",
          "data": {
            "text/plain": [
              "[13, 22, 31, 41]"
            ]
          },
          "metadata": {},
          "execution_count": 29
        }
      ]
    },
    {
      "cell_type": "code",
      "source": [
        "#Given a list of numbers, create a function which returns the list but with each element's index in the list added to itself.\n",
        "def add_index(lst):\n",
        "    ind = 0\n",
        "    index = []\n",
        "    for i in lst:\n",
        "        index.append(lst.index(i,ind) + i)\n",
        "        ind+=1\n",
        "    return index\n",
        "\n",
        "add_index([11, 12, 13, 14, 15])"
      ],
      "metadata": {
        "id": "LLrp90iS8bik",
        "outputId": "32ebce49-dae1-4325-c03c-f67fba5f7857",
        "colab": {
          "base_uri": "https://localhost:8080/"
        }
      },
      "execution_count": null,
      "outputs": [
        {
          "output_type": "execute_result",
          "data": {
            "text/plain": [
              "[11, 13, 15, 17, 19]"
            ]
          },
          "metadata": {},
          "execution_count": 30
        }
      ]
    },
    {
      "cell_type": "code",
      "source": [
        "#Create a function that takes the height and radius of a cone as arguments and returns the volume of the cone rounded to the nearest hundredth\n",
        "import math\n",
        "pi = math.pi\n",
        "def cone_volume(r, h):\n",
        "    return round((1 / 3) * pi * r * r * h)\n",
        "\n",
        "radius = float(input(\"Enter value of radius= \"))\n",
        "height = float(input(\"Enter value of height= \"))\n",
        "\n",
        "print( \"Volume Of Cone : \", cone_volume(radius, height) )"
      ],
      "metadata": {
        "id": "_98F6ZrQ80EW",
        "outputId": "a64ffbc1-cfb6-49d1-f209-44c3ae01c134",
        "colab": {
          "base_uri": "https://localhost:8080/"
        }
      },
      "execution_count": null,
      "outputs": [
        {
          "output_type": "stream",
          "name": "stdout",
          "text": [
            "Enter value of radius= 44\n",
            "Enter value of height= 33\n",
            "Volume Of Cone :  66903\n"
          ]
        }
      ]
    },
    {
      "cell_type": "code",
      "source": [
        "#Write a function that gives the number of dots with its corresponding triangle number of the sequence.\n",
        "def triangle(n):\n",
        "    return n*(n+1)*0.5\n",
        "\n",
        "n = int(input('Enter the trinalge number :'))\n",
        "print(\"The {}th triangle has {} dots \".format(n,int(triangle(n))))\n",
        "\n",
        "triangle(1)"
      ],
      "metadata": {
        "id": "GdL41FM386yL",
        "outputId": "d2d12d5a-b990-4dac-e9ee-f5706a28d83e",
        "colab": {
          "base_uri": "https://localhost:8080/"
        }
      },
      "execution_count": null,
      "outputs": [
        {
          "output_type": "stream",
          "name": "stdout",
          "text": [
            "Enter the trinalge number :43\n",
            "The 43th triangle has 946 dots \n"
          ]
        },
        {
          "output_type": "execute_result",
          "data": {
            "text/plain": [
              "1.0"
            ]
          },
          "metadata": {},
          "execution_count": 32
        }
      ]
    },
    {
      "cell_type": "code",
      "source": [
        "#Create a function that takes a list of numbers between 1 and 10 (excluding one number) and returns the missing number.\n",
        "def missing_num(lst):\n",
        "    total = sum([x for x in range(11)])\n",
        "    sum_of_list = sum(lst)\n",
        "    return total - sum_of_list\n",
        "\n",
        "print(missing_num([1, 2, 3, 4, 6, 7, 8, 9, 10]))"
      ],
      "metadata": {
        "id": "YZLhoSOo9Bbw",
        "outputId": "131e1fb7-bfe3-4a16-bb9e-a1a7c4b4d4d3",
        "colab": {
          "base_uri": "https://localhost:8080/"
        }
      },
      "execution_count": null,
      "outputs": [
        {
          "output_type": "stream",
          "name": "stdout",
          "text": [
            "5\n"
          ]
        }
      ]
    }
  ],
  "metadata": {
    "colab": {
      "collapsed_sections": [],
      "toc_visible": true,
      "provenance": [],
      "include_colab_link": true
    },
    "kernelspec": {
      "display_name": "Python 3",
      "name": "python3"
    }
  },
  "nbformat": 4,
  "nbformat_minor": 0
}